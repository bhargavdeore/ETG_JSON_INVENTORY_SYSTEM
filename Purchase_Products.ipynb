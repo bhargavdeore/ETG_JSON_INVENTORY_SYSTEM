{
 "cells": [
  {
   "cell_type": "code",
   "execution_count": 1,
   "metadata": {},
   "outputs": [],
   "source": [
    "import json\n",
    "import time"
   ]
  },
  {
   "cell_type": "code",
   "execution_count": 2,
   "metadata": {},
   "outputs": [],
   "source": [
    "# Reading inventory and converting into dictionary\n",
    "fd=open(\"records.json\",'r')\n",
    "r =fd.read()\n",
    "fd.close()\n",
    "\n",
    "dct=json.loads(r)"
   ]
  },
  {
   "cell_type": "code",
   "execution_count": 3,
   "metadata": {},
   "outputs": [
    {
     "data": {
      "text/plain": [
       "{'1001': {'name': 'Choco Cake', 'pr': 80, 'qn': 34},\n",
       " '1002': {'name': 'Milk Cake', 'pr': 500, 'qn': 100},\n",
       " '1003': {'name': 'Drink', 'pr': 35, 'qn': 100},\n",
       " '1004': {'name': 'Candy', 'pr': 5, 'qn': 1000},\n",
       " '1005': {'name': 'Pen', 'pr': 15, 'qn': 100},\n",
       " '1006': {'name': 'Rice', 'pr': 120, 'qn': 10},\n",
       " '1007': {'name': 'wheat', 'pr': 30, 'qn': 0},\n",
       " '1008': {'name': 'Sugar', 'pr': 38, 'qn': 5},\n",
       " '1009': {'name': 'tea', 'pr': 15, 'qn': 20},\n",
       " '1010': {'name': 'brush', 'pr': 20, 'qn': 100},\n",
       " '1015': {'name': 'Shampoo', 'pr': 15, 'qn': 30},\n",
       " '1016': {'name': 'Milk', 'pr': 26, 'qn': 60},\n",
       " '1017': {'name': 'ChatMasala', 'pr': 30, 'qn': 50},\n",
       " '1018': {'name': 'ChilliPowder', 'pr': 30, 'qn': 70},\n",
       " '1019': {'name': 'Matchstick', 'pr': 1, 'qn': 150},\n",
       " '1020': {'name': 'Salt', 'pr': 40, 'qn': 60},\n",
       " '1021': {'name': 'Bread', 'pr': 20, 'qn': 50},\n",
       " '1022': {'name': 'Ghee', 'pr': 120, 'qn': 20},\n",
       " '1023': {'name': 'ButterMilk', 'pr': 16, 'qn': 40},\n",
       " '1024': {'name': 'Butter', 'pr': 10, 'qn': 50},\n",
       " '1025': {'name': 'Chesse', 'pr': 12, 'qn': 60},\n",
       " '1026': {'name': 'Panner', 'pr': 38, 'qn': 27},\n",
       " '1027': {'name': 'Lassi', 'pr': 20, 'qn': 0},\n",
       " '1028': {'name': 'IceCream', 'pr': 30, 'qn': 25},\n",
       " '1029': {'name': 'Shrikhand', 'pr': 70, 'qn': 30},\n",
       " '1030': {'name': 'Soup', 'pr': 15, 'qn': 0},\n",
       " '1031': {'name': 'tea', 'pr': 50, 'qn': 10},\n",
       " '1032': {'name': 'coffee', 'pr': 50, 'qn': 20},\n",
       " '1033': {'name': 'pepper', 'pr': 60, 'qn': 20},\n",
       " '1034': {'name': 'rice', 'pr': 80, 'qn': 20}}"
      ]
     },
     "execution_count": 3,
     "metadata": {},
     "output_type": "execute_result"
    }
   ],
   "source": [
    "dct"
   ]
  },
  {
   "cell_type": "code",
   "execution_count": 4,
   "metadata": {},
   "outputs": [],
   "source": [
    "sales ={}\n",
    "\n",
    "sales =json.dumps(sales)\n",
    "\n",
    "fd =open(\"sales.json\",'w')\n",
    "fd.write(sales)\n",
    "fd.close()\n",
    "\n",
    "# Loading sales and Converting it into dictionary \n",
    "fd =open(\"sales.json\",'r')\n",
    "sl =fd.read()\n",
    "fd.close()\n",
    "\n",
    "sales =json.loads(sl)"
   ]
  },
  {
   "cell_type": "markdown",
   "metadata": {},
   "source": [
    "# purchasing product and updating the inventory"
   ]
  },
  {
   "cell_type": "code",
   "execution_count": 5,
   "metadata": {},
   "outputs": [
    {
     "name": "stdout",
     "output_type": "stream",
     "text": [
      "***************\n",
      "\n",
      "Enter the product_id :1020\n",
      "Enter the quantity :30\n",
      "Name of Product : Salt\n",
      "Price of Product : 40\n",
      "Quantity Required : 30\n",
      "------------------------------------------------\n",
      "Billing Amount : 1200\n",
      "------------------------------------------------\n",
      "***************\n",
      "Data Updated in Sales File!\n",
      "Data Updated in Inventory File!\n"
     ]
    }
   ],
   "source": [
    "# displaying menus\n",
    "# print(\"*************\")\n",
    "# for i in dct.keys():\n",
    "#     print(i, dct[i])\n",
    "print(\"***************\\n\")\n",
    "\n",
    "# Taking Input from User to Enter what he/she wants to purchase\n",
    "ui_prod =str(input(\"Enter the product_id :\"))\n",
    "ui_quant =int(input(\"Enter the quantity :\"))\n",
    "\n",
    "if(ui_prod in dct.keys()):\n",
    "    if(dct[ui_prod]['qn'] >=ui_quant):\n",
    "        print(\"Name of Product :\",dct[ui_prod]['name'])\n",
    "        print(\"Price of Product :\",dct[ui_prod]['pr'])\n",
    "        print(\"Quantity Required :\",ui_quant)\n",
    "        print(\"------------------------------------------------\")\n",
    "        print(\"Billing Amount :\",dct[ui_prod]['pr'] * ui_quant)\n",
    "        print(\"------------------------------------------------\")\n",
    "    \n",
    "        dct[ui_prod]['qn'] =dct[ui_prod]['qn'] - ui_quant\n",
    "    \n",
    "        sales[str(len(sales)+1)] ={'prod_id' : ui_prod,\n",
    "                                  'time_pr' : time.ctime(),\n",
    "                                  'bill' :dct[ui_prod]['pr'] * ui_quant,\n",
    "                                  'qn' :ui_quant,\n",
    "                                  'pr' : dct[ui_prod]['pr'],\n",
    "                                  'pr_name' :dct[ui_prod]['name']}\n",
    "        \n",
    "    else:\n",
    "        print(\"Sorry ,We are not having that much of quantity.\")\n",
    "        print(\"We're only having\",dct[ui_prod]['qn'],\"quantity\")\n",
    "        print(\"Would you like to purchase or not(Y/N)\")\n",
    "        ch =str(input(\"Y/N\"))\n",
    "        \n",
    "        if(ch ==\"Y\"):\n",
    "            print(\"Name of product :\",dct[ui_prod]['name'])\n",
    "            print(\"Price of quantity : \",dct[ui_prod]['pr'])\n",
    "            print(\"Quantity required :\",dct[ui_prod]['qn'])\n",
    "            print(\"---------------------------------------------\")\n",
    "            print(\"Billing Amount : \",dct[ui_prod]['pr'] * dct[ui_prod]['qn'])\n",
    "            \n",
    "            dct[ui_prod]['qn'] ==0\n",
    "            \n",
    "            sales[str(len(sales)+1)] ={'prod_id' : ui_prod,\n",
    "                                  'time_pr' : time.ctime(),\n",
    "                                  'bill' :dct[ui_prod]['pr'] * dct[ui_prod]['qn'],\n",
    "                                  'qn' : dct[ui_prod]['qn'],\n",
    "                                  'pr' : dct[ui_prod]['pr'],\n",
    "                                  'pr_name' :dct[ui_prod]['name']}\n",
    "        else:\n",
    "            print(\"Thank you !\")\n",
    "\n",
    "else:\n",
    "    print(\"----------------------------------\")\n",
    "    print(\"Product doesn't exist!\")\n",
    "    print(\"Please Enter a valid product id\")\n",
    "    print(\"------------------------------------\")\n",
    "\n",
    "# Updating sales files\n",
    "sl =json.dumps(sales) \n",
    "fd =open(\"sales.json\",'w')\n",
    "fd.write(sl)\n",
    "fd.close()\n",
    "\n",
    "print(\"***************\")\n",
    "print(\"Data Updated in Sales File!\")\n",
    "\n",
    "# Updating the inventory file\n",
    "js =json.dumps(dct)\n",
    "fd =open(\"record.json\",'w')\n",
    "fd.write(js)\n",
    "fd.close()\n",
    "\n",
    "print(\"Data Updated in Inventory File!\")"
   ]
  },
  {
   "cell_type": "code",
   "execution_count": 6,
   "metadata": {},
   "outputs": [
    {
     "data": {
      "text/plain": [
       "{'1001': {'name': 'Choco Cake', 'pr': 80, 'qn': 34},\n",
       " '1002': {'name': 'Milk Cake', 'pr': 500, 'qn': 100},\n",
       " '1003': {'name': 'Drink', 'pr': 35, 'qn': 100},\n",
       " '1004': {'name': 'Candy', 'pr': 5, 'qn': 1000},\n",
       " '1005': {'name': 'Pen', 'pr': 15, 'qn': 100},\n",
       " '1006': {'name': 'Rice', 'pr': 120, 'qn': 10},\n",
       " '1007': {'name': 'wheat', 'pr': 30, 'qn': 0},\n",
       " '1008': {'name': 'Sugar', 'pr': 38, 'qn': 5},\n",
       " '1009': {'name': 'tea', 'pr': 15, 'qn': 20},\n",
       " '1010': {'name': 'brush', 'pr': 20, 'qn': 100},\n",
       " '1015': {'name': 'Shampoo', 'pr': 15, 'qn': 30},\n",
       " '1016': {'name': 'Milk', 'pr': 26, 'qn': 60},\n",
       " '1017': {'name': 'ChatMasala', 'pr': 30, 'qn': 50},\n",
       " '1018': {'name': 'ChilliPowder', 'pr': 30, 'qn': 70},\n",
       " '1019': {'name': 'Matchstick', 'pr': 1, 'qn': 150},\n",
       " '1020': {'name': 'Salt', 'pr': 40, 'qn': 30},\n",
       " '1021': {'name': 'Bread', 'pr': 20, 'qn': 50},\n",
       " '1022': {'name': 'Ghee', 'pr': 120, 'qn': 20},\n",
       " '1023': {'name': 'ButterMilk', 'pr': 16, 'qn': 40},\n",
       " '1024': {'name': 'Butter', 'pr': 10, 'qn': 50},\n",
       " '1025': {'name': 'Chesse', 'pr': 12, 'qn': 60},\n",
       " '1026': {'name': 'Panner', 'pr': 38, 'qn': 27},\n",
       " '1027': {'name': 'Lassi', 'pr': 20, 'qn': 0},\n",
       " '1028': {'name': 'IceCream', 'pr': 30, 'qn': 25},\n",
       " '1029': {'name': 'Shrikhand', 'pr': 70, 'qn': 30},\n",
       " '1030': {'name': 'Soup', 'pr': 15, 'qn': 0},\n",
       " '1031': {'name': 'tea', 'pr': 50, 'qn': 10},\n",
       " '1032': {'name': 'coffee', 'pr': 50, 'qn': 20},\n",
       " '1033': {'name': 'pepper', 'pr': 60, 'qn': 20},\n",
       " '1034': {'name': 'rice', 'pr': 80, 'qn': 20}}"
      ]
     },
     "execution_count": 6,
     "metadata": {},
     "output_type": "execute_result"
    }
   ],
   "source": [
    "dct"
   ]
  },
  {
   "cell_type": "code",
   "execution_count": 7,
   "metadata": {},
   "outputs": [
    {
     "data": {
      "text/plain": [
       "{'1': {'prod_id': '1020',\n",
       "  'time_pr': 'Mon Sep 13 23:48:34 2021',\n",
       "  'bill': 1200,\n",
       "  'qn': 30,\n",
       "  'pr': 40,\n",
       "  'pr_name': 'Salt'}}"
      ]
     },
     "execution_count": 7,
     "metadata": {},
     "output_type": "execute_result"
    }
   ],
   "source": [
    "sales"
   ]
  },
  {
   "cell_type": "code",
   "execution_count": null,
   "metadata": {},
   "outputs": [],
   "source": []
  }
 ],
 "metadata": {
  "kernelspec": {
   "display_name": "Python 3",
   "language": "python",
   "name": "python3"
  },
  "language_info": {
   "codemirror_mode": {
    "name": "ipython",
    "version": 3
   },
   "file_extension": ".py",
   "mimetype": "text/x-python",
   "name": "python",
   "nbconvert_exporter": "python",
   "pygments_lexer": "ipython3",
   "version": "3.8.3"
  }
 },
 "nbformat": 4,
 "nbformat_minor": 4
}
